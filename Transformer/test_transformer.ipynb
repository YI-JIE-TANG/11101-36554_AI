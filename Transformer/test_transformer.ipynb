{
  "cells": [
    {
      "cell_type": "code",
      "execution_count": 3,
      "metadata": {
        "colab": {
          "base_uri": "https://localhost:8080/",
          "height": 1000
        },
        "id": "SMiiEPJix4J3",
        "outputId": "b6cc3966-8877-4c41-f8c7-3894edc47721"
      },
      "outputs": [
        {
          "ename": "LookupError",
          "evalue": "unknown encoding: uff-8",
          "output_type": "error",
          "traceback": [
            "\u001b[1;31m---------------------------------------------------------------------------\u001b[0m",
            "\u001b[1;31mLookupError\u001b[0m                               Traceback (most recent call last)",
            "\u001b[1;32m~\\AppData\\Local\\Temp\\ipykernel_11328\\647582786.py\u001b[0m in \u001b[0;36m<module>\u001b[1;34m\u001b[0m\n\u001b[0;32m    112\u001b[0m                 \u001b[0mprint\u001b[0m\u001b[1;33m(\u001b[0m \u001b[1;34m'預測答案'\u001b[0m\u001b[1;33m,\u001b[0m \u001b[0mpredicted\u001b[0m\u001b[1;33m)\u001b[0m\u001b[1;33m\u001b[0m\u001b[1;33m\u001b[0m\u001b[0m\n\u001b[0;32m    113\u001b[0m \u001b[0mx\u001b[0m\u001b[1;33m=\u001b[0m\u001b[0mTestTranslate\u001b[0m\u001b[1;33m(\u001b[0m\u001b[1;33m)\u001b[0m\u001b[1;33m\u001b[0m\u001b[1;33m\u001b[0m\u001b[0m\n\u001b[1;32m--> 114\u001b[1;33m \u001b[0mx\u001b[0m\u001b[1;33m.\u001b[0m\u001b[0mtest_translate\u001b[0m\u001b[1;33m(\u001b[0m\u001b[1;33m)\u001b[0m\u001b[1;33m\u001b[0m\u001b[1;33m\u001b[0m\u001b[0m\n\u001b[0m",
            "\u001b[1;32m~\\AppData\\Local\\Temp\\ipykernel_11328\\647582786.py\u001b[0m in \u001b[0;36mtest_translate\u001b[1;34m(self)\u001b[0m\n\u001b[0;32m     54\u001b[0m         ]\n\u001b[0;32m     55\u001b[0m         '''\n\u001b[1;32m---> 56\u001b[1;33m         \u001b[0msource_tokens\u001b[0m\u001b[1;33m,\u001b[0m \u001b[0mtarget_tokens\u001b[0m \u001b[1;33m=\u001b[0m \u001b[0mreadData\u001b[0m\u001b[1;33m(\u001b[0m\u001b[1;34m\"./cmn.txt\"\u001b[0m\u001b[1;33m)\u001b[0m\u001b[1;33m\u001b[0m\u001b[1;33m\u001b[0m\u001b[0m\n\u001b[0m\u001b[0;32m     57\u001b[0m         \u001b[1;31m# Generate dictionaries\u001b[0m\u001b[1;33m\u001b[0m\u001b[1;33m\u001b[0m\u001b[1;33m\u001b[0m\u001b[0m\n\u001b[0;32m     58\u001b[0m         \u001b[0msource_token_dict\u001b[0m \u001b[1;33m=\u001b[0m \u001b[0mself\u001b[0m\u001b[1;33m.\u001b[0m\u001b[0m_build_token_dict\u001b[0m\u001b[1;33m(\u001b[0m\u001b[0msource_tokens\u001b[0m\u001b[1;33m)\u001b[0m\u001b[1;33m\u001b[0m\u001b[1;33m\u001b[0m\u001b[0m\n",
            "\u001b[1;32m~\\AppData\\Local\\Temp\\ipykernel_11328\\647582786.py\u001b[0m in \u001b[0;36mreadData\u001b[1;34m(data_path, num_samples)\u001b[0m\n\u001b[0;32m     16\u001b[0m \u001b[1;33m\u001b[0m\u001b[0m\n\u001b[0;32m     17\u001b[0m \u001b[1;32mdef\u001b[0m \u001b[0mreadData\u001b[0m\u001b[1;33m(\u001b[0m\u001b[0mdata_path\u001b[0m\u001b[1;33m,\u001b[0m \u001b[0mnum_samples\u001b[0m\u001b[1;33m=\u001b[0m\u001b[1;36m10000\u001b[0m\u001b[1;33m)\u001b[0m\u001b[1;33m:\u001b[0m\u001b[1;33m\u001b[0m\u001b[1;33m\u001b[0m\u001b[0m\n\u001b[1;32m---> 18\u001b[1;33m     \u001b[1;32mwith\u001b[0m \u001b[0mopen\u001b[0m\u001b[1;33m(\u001b[0m\u001b[0mdata_path\u001b[0m\u001b[1;33m,\u001b[0m \u001b[1;34m'r'\u001b[0m\u001b[1;33m,\u001b[0m \u001b[0mencoding\u001b[0m\u001b[1;33m=\u001b[0m\u001b[1;34m'uff-8'\u001b[0m\u001b[1;33m)\u001b[0m \u001b[1;32mas\u001b[0m \u001b[0mf\u001b[0m\u001b[1;33m:\u001b[0m\u001b[1;33m\u001b[0m\u001b[1;33m\u001b[0m\u001b[0m\n\u001b[0m\u001b[0;32m     19\u001b[0m         \u001b[0mlines\u001b[0m \u001b[1;33m=\u001b[0m \u001b[0mf\u001b[0m\u001b[1;33m.\u001b[0m\u001b[0mread\u001b[0m\u001b[1;33m(\u001b[0m\u001b[1;33m)\u001b[0m\u001b[1;33m.\u001b[0m\u001b[0msplit\u001b[0m\u001b[1;33m(\u001b[0m\u001b[1;34m'\\n'\u001b[0m\u001b[1;33m)\u001b[0m\u001b[1;33m\u001b[0m\u001b[1;33m\u001b[0m\u001b[0m\n\u001b[0;32m     20\u001b[0m     \u001b[0minput_texts\u001b[0m\u001b[1;33m=\u001b[0m\u001b[1;33m[\u001b[0m\u001b[1;33m]\u001b[0m\u001b[1;33m\u001b[0m\u001b[1;33m\u001b[0m\u001b[0m\n",
            "\u001b[1;31mLookupError\u001b[0m: unknown encoding: uff-8"
          ]
        }
      ],
      "source": [
        "# encoding: utf-8\n",
        "from __future__ import unicode_literals\n",
        "\n",
        "import unittest\n",
        "import numpy as np\n",
        "\n",
        "import sys\n",
        "sys.path.append(\".\")\n",
        "sys.path.append(\"./keras_transformer\")\n",
        "\n",
        "import os\n",
        "os.environ['TF_KERAS'] =  '1'\n",
        "\n",
        "from keras_transformer import transformer as tfr\n",
        "import re\n",
        "\n",
        "def readData(data_path, num_samples=10000):\n",
        "    with open(data_path, 'r', encoding='uff-8') as f:\n",
        "        lines = f.read().split('\\n')\n",
        "    input_texts=[]\n",
        "    target_texts=[]\n",
        "    for line in lines[: min(num_samples, len(lines) - 1)]:\n",
        "        input_text, target_text = line.split('\\t')  \n",
        "        \n",
        "        input_text= re.findall(r'[.!@#$%^&*()\\+\\-\\*/]|\\w+', input_text)\n",
        "        input_texts.append(input_text)\n",
        "        target_texts.append(list(target_text))\n",
        "    return input_texts,target_texts\n",
        "    \n",
        "class TestTranslate(unittest.TestCase):\n",
        "\n",
        "    @staticmethod\n",
        "    def _build_token_dict(token_list):\n",
        "        token_dict = {\n",
        "            '<PAD>': 0,\n",
        "            '<START>': 1,\n",
        "            '<END>': 2,\n",
        "        }\n",
        "        for tokens in token_list:\n",
        "            for token in tokens:\n",
        "                if token not in token_dict:\n",
        "                    token_dict[token] = len(token_dict)\n",
        "        return token_dict\n",
        "\n",
        "    def test_translate(self):\n",
        "        '''\n",
        "        source_tokens = [\n",
        "            'i need more power'.split(' '),\n",
        "            'eat jujube and pill'.split(' '),\n",
        "        ]\n",
        "        target_tokens = [\n",
        "            list('我要更多的抛瓦'),\n",
        "            list('吃枣💊'),\n",
        "        ]\n",
        "        '''\n",
        "        source_tokens, target_tokens = readData(\"./cmn.txt\")\n",
        "        # Generate dictionaries\n",
        "        source_token_dict = self._build_token_dict(source_tokens)\n",
        "        target_token_dict = self._build_token_dict(target_tokens)\n",
        "        target_token_dict_inv = {v: k for k, v in target_token_dict.items()}\n",
        "\n",
        "        # Add special tokens\n",
        "        encode_tokens = [['<START>'] + tokens + ['<END>'] for tokens in source_tokens]\n",
        "        decode_tokens = [['<START>'] + tokens + ['<END>'] for tokens in target_tokens]\n",
        "        output_tokens = [tokens + ['<END>', '<PAD>'] for tokens in target_tokens]\n",
        "\n",
        "        # Padding\n",
        "        source_max_len = max(map(len, encode_tokens))\n",
        "        target_max_len = max(map(len, decode_tokens))\n",
        "\n",
        "        encode_tokens = [tokens + ['<PAD>'] * (source_max_len - len(tokens)) for tokens in encode_tokens]\n",
        "        decode_tokens = [tokens + ['<PAD>'] * (target_max_len - len(tokens)) for tokens in decode_tokens]\n",
        "        output_tokens = [tokens + ['<PAD>'] * (target_max_len - len(tokens)) for tokens in output_tokens]\n",
        "\n",
        "        encode_input = [list(map(lambda x: source_token_dict[x], tokens)) for tokens in encode_tokens]\n",
        "        decode_input = [list(map(lambda x: target_token_dict[x], tokens)) for tokens in decode_tokens]\n",
        "        decode_output = [list(map(lambda x: [target_token_dict[x]], tokens)) for tokens in output_tokens]\n",
        "\n",
        "        # Build & fit model\n",
        "        model = tfr.get_model(\n",
        "            token_num=max(len(source_token_dict), len(target_token_dict)),\n",
        "            embed_dim=32,\n",
        "            encoder_num=2,\n",
        "            decoder_num=2,\n",
        "            head_num=4,\n",
        "            hidden_dim=128,\n",
        "            dropout_rate=0.05,\n",
        "            use_same_embed=False,  # Use different embeddings for different languages\n",
        "        )\n",
        "        model.compile('adam', 'sparse_categorical_crossentropy')\n",
        "        model.summary()\n",
        "        model.fit(\n",
        "            x=[np.array(encode_input), np.array(decode_input)],\n",
        "            y=np.array(decode_output ),\n",
        "            epochs=10,\n",
        "            batch_size=32,\n",
        "        )\n",
        "\n",
        "        # Predict\n",
        "        number_sentence=10000 # <-------\n",
        "        for sentence_idx in range(number_sentence): # <-------\n",
        "            decoded = tfr.decode(\n",
        "                model,\n",
        "                encode_input[sentence_idx:sentence_idx+1], # <-------\n",
        "                start_token=target_token_dict['<START>'],\n",
        "                end_token=target_token_dict['<END>'],\n",
        "                pad_token=target_token_dict['<PAD>'],\n",
        "            )\n",
        "            for i in range(len(decoded)): # <-------\n",
        "                predicted = ''.join(map(lambda x: target_token_dict_inv[x], decoded[i][1:-1]))\n",
        "                print('標準答案', ''.join(target_tokens[sentence_idx]))# <-------\n",
        "                print( '預測答案', predicted)\n",
        "x=TestTranslate()\n",
        "x.test_translate()"
      ]
    },
    {
      "cell_type": "code",
      "execution_count": 8,
      "metadata": {
        "colab": {
          "base_uri": "https://localhost:8080/"
        },
        "id": "eoWzV3DU63VD",
        "outputId": "79e30409-9a3c-431a-fd2a-02e79ae97f36"
      },
      "outputs": [
        {
          "name": "stdout",
          "output_type": "stream",
          "text": [
            "[['Hi', '.'], ['Hi', '.'], ['Run', '.'], ['Wait', '!'], ['Hello', '!']]\n",
            "[['嗨', '。'], ['你', '好', '。'], ['你', '用', '跑', '的', '。'], ['等', '等', '！'], ['你', '好', '。']]\n"
          ]
        }
      ],
      "source": [
        "import re\n",
        "def readData(data_path, num_samples=10000):\n",
        "        with open(data_path, 'r') as f:\n",
        "            lines = f.read().split('\\n')\n",
        "        input_texts=[]\n",
        "        target_texts=[]\n",
        "        for line in lines[: min(num_samples, len(lines) - 1)]:\n",
        "            input_text, target_text = line.split('\\t')  \n",
        "            \n",
        "            input_text= re.findall(r'[.!@#$%^&*()\\+\\-\\*/]|\\w+', input_text)\n",
        "            input_texts.append(input_text)\n",
        "\n",
        "            target_texts.append(list(target_text))\n",
        "        return input_texts,target_texts\n",
        "source, target = readData(\"cmn.txt\")\n",
        "print(source[0:5])\n",
        "print(target[0:5])"
      ]
    }
  ],
  "metadata": {
    "accelerator": "GPU",
    "colab": {
      "provenance": []
    },
    "gpuClass": "standard",
    "kernelspec": {
      "display_name": "Python 3",
      "language": "python",
      "name": "python3"
    },
    "language_info": {
      "codemirror_mode": {
        "name": "ipython",
        "version": 3
      },
      "file_extension": ".py",
      "mimetype": "text/x-python",
      "name": "python",
      "nbconvert_exporter": "python",
      "pygments_lexer": "ipython3",
      "version": "3.7.6"
    },
    "vscode": {
      "interpreter": {
        "hash": "5173580108efe3e021f20f6ea7c345edb950167c82117d56aabdf6e8b4f12b49"
      }
    }
  },
  "nbformat": 4,
  "nbformat_minor": 0
}
